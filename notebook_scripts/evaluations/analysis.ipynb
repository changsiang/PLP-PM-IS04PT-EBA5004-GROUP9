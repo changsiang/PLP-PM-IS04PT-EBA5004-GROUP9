{
 "cells": [
  {
   "cell_type": "code",
   "execution_count": 15,
   "metadata": {},
   "outputs": [],
   "source": [
    "import pandas as pd\n",
    "import numpy as np\n",
    "import matplotlib.pyplot as plt\n",
    "from collections import Counter"
   ]
  },
  {
   "cell_type": "code",
   "execution_count": 27,
   "metadata": {},
   "outputs": [],
   "source": [
    "data = pd.read_csv('abstract_adaptation_pair_df.csv')\n",
    "data_2 = pd.read_csv('questions_specialties_df.csv')"
   ]
  },
  {
   "cell_type": "code",
   "execution_count": 3,
   "metadata": {},
   "outputs": [
    {
     "data": {
      "text/html": [
       "<div>\n",
       "<style scoped>\n",
       "    .dataframe tbody tr th:only-of-type {\n",
       "        vertical-align: middle;\n",
       "    }\n",
       "\n",
       "    .dataframe tbody tr th {\n",
       "        vertical-align: top;\n",
       "    }\n",
       "\n",
       "    .dataframe thead th {\n",
       "        text-align: right;\n",
       "    }\n",
       "</style>\n",
       "<table border=\"1\" class=\"dataframe\">\n",
       "  <thead>\n",
       "    <tr style=\"text-align: right;\">\n",
       "      <th></th>\n",
       "      <th>abstract</th>\n",
       "      <th>adaptation</th>\n",
       "      <th>question</th>\n",
       "      <th>category</th>\n",
       "      <th>question_type</th>\n",
       "    </tr>\n",
       "  </thead>\n",
       "  <tbody>\n",
       "    <tr>\n",
       "      <th>0</th>\n",
       "      <td>Muscle cramps are a common problem characteriz...</td>\n",
       "      <td>Muscle cramps are a common problem represented...</td>\n",
       "      <td>What causes muscle spasm?</td>\n",
       "      <td>1</td>\n",
       "      <td>C</td>\n",
       "    </tr>\n",
       "    <tr>\n",
       "      <th>1</th>\n",
       "      <td>The dystonias are a group of disorders charact...</td>\n",
       "      <td>Dystonias are disorders with a lot of uncontro...</td>\n",
       "      <td>What causes muscle spasm?</td>\n",
       "      <td>1</td>\n",
       "      <td>C</td>\n",
       "    </tr>\n",
       "    <tr>\n",
       "      <th>2</th>\n",
       "      <td>Muscle cramps result in continuous, involuntar...</td>\n",
       "      <td>Muscle cramps cause constant and unintended co...</td>\n",
       "      <td>What causes muscle spasm?</td>\n",
       "      <td>1</td>\n",
       "      <td>C</td>\n",
       "    </tr>\n",
       "    <tr>\n",
       "      <th>3</th>\n",
       "      <td>Exercise-Associated Muscle Cramps (EAMC) are a...</td>\n",
       "      <td>Exercise-Associated Muscle Cramps (EAMC) are a...</td>\n",
       "      <td>What causes muscle spasm?</td>\n",
       "      <td>1</td>\n",
       "      <td>C</td>\n",
       "    </tr>\n",
       "    <tr>\n",
       "      <th>4</th>\n",
       "      <td>Muscular cramp is a common symptom in healthy ...</td>\n",
       "      <td>Muscle cramps are common in healthy people, es...</td>\n",
       "      <td>What causes muscle spasm?</td>\n",
       "      <td>1</td>\n",
       "      <td>C</td>\n",
       "    </tr>\n",
       "  </tbody>\n",
       "</table>\n",
       "</div>"
      ],
      "text/plain": [
       "                                            abstract   \n",
       "0  Muscle cramps are a common problem characteriz...  \\\n",
       "1  The dystonias are a group of disorders charact...   \n",
       "2  Muscle cramps result in continuous, involuntar...   \n",
       "3  Exercise-Associated Muscle Cramps (EAMC) are a...   \n",
       "4  Muscular cramp is a common symptom in healthy ...   \n",
       "\n",
       "                                          adaptation   \n",
       "0  Muscle cramps are a common problem represented...  \\\n",
       "1  Dystonias are disorders with a lot of uncontro...   \n",
       "2  Muscle cramps cause constant and unintended co...   \n",
       "3  Exercise-Associated Muscle Cramps (EAMC) are a...   \n",
       "4  Muscle cramps are common in healthy people, es...   \n",
       "\n",
       "                    question  category question_type  \n",
       "0  What causes muscle spasm?         1             C  \n",
       "1  What causes muscle spasm?         1             C  \n",
       "2  What causes muscle spasm?         1             C  \n",
       "3  What causes muscle spasm?         1             C  \n",
       "4  What causes muscle spasm?         1             C  "
      ]
     },
     "execution_count": 3,
     "metadata": {},
     "output_type": "execute_result"
    }
   ],
   "source": [
    "data.head()"
   ]
  },
  {
   "cell_type": "code",
   "execution_count": 28,
   "metadata": {},
   "outputs": [
    {
     "data": {
      "text/html": [
       "<div>\n",
       "<style scoped>\n",
       "    .dataframe tbody tr th:only-of-type {\n",
       "        vertical-align: middle;\n",
       "    }\n",
       "\n",
       "    .dataframe tbody tr th {\n",
       "        vertical-align: top;\n",
       "    }\n",
       "\n",
       "    .dataframe thead th {\n",
       "        text-align: right;\n",
       "    }\n",
       "</style>\n",
       "<table border=\"1\" class=\"dataframe\">\n",
       "  <thead>\n",
       "    <tr style=\"text-align: right;\">\n",
       "      <th></th>\n",
       "      <th>id</th>\n",
       "      <th>question</th>\n",
       "      <th>type</th>\n",
       "      <th>specialties</th>\n",
       "    </tr>\n",
       "  </thead>\n",
       "  <tbody>\n",
       "    <tr>\n",
       "      <th>0</th>\n",
       "      <td>1</td>\n",
       "      <td>What causes muscle spasm?</td>\n",
       "      <td>clinical</td>\n",
       "      <td>Musculoskeleton</td>\n",
       "    </tr>\n",
       "    <tr>\n",
       "      <th>1</th>\n",
       "      <td>2</td>\n",
       "      <td>What does duloxetine do?</td>\n",
       "      <td>biological</td>\n",
       "      <td>Mental Health</td>\n",
       "    </tr>\n",
       "    <tr>\n",
       "      <th>2</th>\n",
       "      <td>3</td>\n",
       "      <td>How can i reduce my potassium levels?</td>\n",
       "      <td>clinical</td>\n",
       "      <td>Endocrinology</td>\n",
       "    </tr>\n",
       "    <tr>\n",
       "      <th>3</th>\n",
       "      <td>4</td>\n",
       "      <td>How is diabetes diagnosed?</td>\n",
       "      <td>clinical</td>\n",
       "      <td>Endocrinology</td>\n",
       "    </tr>\n",
       "    <tr>\n",
       "      <th>4</th>\n",
       "      <td>5</td>\n",
       "      <td>How to treat a bakers cyst?</td>\n",
       "      <td>clinical</td>\n",
       "      <td>Dermatology</td>\n",
       "    </tr>\n",
       "  </tbody>\n",
       "</table>\n",
       "</div>"
      ],
      "text/plain": [
       "   id                               question        type      specialties\n",
       "0   1              What causes muscle spasm?    clinical  Musculoskeleton\n",
       "1   2               What does duloxetine do?  biological    Mental Health\n",
       "2   3  How can i reduce my potassium levels?    clinical    Endocrinology\n",
       "3   4             How is diabetes diagnosed?    clinical    Endocrinology\n",
       "4   5            How to treat a bakers cyst?    clinical      Dermatology"
      ]
     },
     "execution_count": 28,
     "metadata": {},
     "output_type": "execute_result"
    }
   ],
   "source": [
    "data_2.head()"
   ]
  },
  {
   "cell_type": "code",
   "execution_count": 201,
   "metadata": {},
   "outputs": [],
   "source": [
    "counts = Counter(data_2['type'])\n",
    "labels = [\"clinical\", \"biological\"]\n",
    "values = [counts['clinical'], counts['biological']]"
   ]
  },
  {
   "cell_type": "code",
   "execution_count": 202,
   "metadata": {},
   "outputs": [
    {
     "data": {
      "image/png": "[encoded data removed]",
      "text/plain": [
       "<Figure size 640x480 with 1 Axes>"
      ]
     },
     "metadata": {},
     "output_type": "display_data"
    }
   ],
   "source": [
    "# Create the bar chart\n",
    "plt.bar(labels, values, color=['blue', 'blue'])\n",
    "\n",
    "# Add labels and a title\n",
    "plt.xlabel(\"Question Type\")\n",
    "plt.ylabel(\"Count\")\n",
    "plt.title(\"Occurrences of 'clinical' and 'biological' questions\")\n",
    "\n",
    "# Add labels on top of the bars\n",
    "for i, v in enumerate(values):\n",
    "    plt.text(labels[i], v, str(v), ha='center', va='bottom')\n",
    "\n",
    "# Display the bar chart\n",
    "plt.show()"
   ]
  },
  {
   "cell_type": "code",
   "execution_count": 71,
   "metadata": {},
   "outputs": [],
   "source": [
    "spec_count = Counter(data_2['specialties'])\n",
    "spec_labels = list(spec_count.keys())\n",
    "spec_values = list(spec_count.values())"
   ]
  },
  {
   "cell_type": "code",
   "execution_count": 72,
   "metadata": {},
   "outputs": [
    {
     "data": {
      "image/png": "[encoded data removed]",
      "text/plain": [
       "<Figure size 640x480 with 1 Axes>"
      ]
     },
     "metadata": {},
     "output_type": "display_data"
    }
   ],
   "source": [
    "# Sort the data in descending order\n",
    "sorted_data = sorted(zip(spec_labels, spec_values), key=lambda x: x[1], reverse=False)\n",
    "spec_labels, spec_values = zip(*sorted_data)\n",
    "\n",
    "# Create the bar chart\n",
    "plt.barh(spec_labels, spec_values)\n",
    "\n",
    "# Add labels and a title\n",
    "plt.ylabel(\"Question Type\")\n",
    "plt.xlabel(\"Count\")\n",
    "plt.title(\"Distribution of specialties from 75 questions\")\n",
    "\n",
    "# Add labels to the bars\n",
    "for i, v in enumerate(spec_values):\n",
    "    plt.text(v, i, str(v), color='black', va='center')\n",
    "\n",
    "# Display the bar chart\n",
    "plt.show()"
   ]
  },
  {
   "cell_type": "code",
   "execution_count": 78,
   "metadata": {},
   "outputs": [],
   "source": [
    "from textstat import flesch_reading_ease, flesch_kincaid_grade\n",
    "from tabulate import tabulate"
   ]
  },
  {
   "cell_type": "code",
   "execution_count": 75,
   "metadata": {},
   "outputs": [],
   "source": [
    "abstract_fkgl = []\n",
    "abstract_fkre = []\n",
    "adapt_fkgl = []\n",
    "adapt_fkre = []\n",
    "\n",
    "for row in data.itertuples():\n",
    "    abstract_fkgl.append(flesch_kincaid_grade(row.abstract))\n",
    "    abstract_fkre.append(flesch_reading_ease(row.abstract))\n",
    "    adapt_fkgl.append(flesch_kincaid_grade(row.adaptation))\n",
    "    adapt_fkre.append(flesch_reading_ease(row.adaptation))\n"
   ]
  },
  {
   "cell_type": "code",
   "execution_count": 143,
   "metadata": {},
   "outputs": [
    {
     "name": "stderr",
     "output_type": "stream",
     "text": [
      "[nltk_data] Downloading package punkt to\n",
      "[nltk_data]     /Users/changsiang/nltk_data...\n",
      "[nltk_data]   Package punkt is already up-to-date!\n"
     ]
    }
   ],
   "source": [
    "import nltk\n",
    "from nltk.translate.bleu_score import sentence_bleu, SmoothingFunction\n",
    "from nltk.tokenize import word_tokenize\n",
    "import evaluate\n",
    "\n",
    "nltk.download('punkt')\n",
    "smooter = SmoothingFunction()\n",
    "rouge_evaluate = evaluate.load('rouge')"
   ]
  },
  {
   "cell_type": "code",
   "execution_count": 158,
   "metadata": {},
   "outputs": [],
   "source": [
    "bleu = []\n",
    "\n",
    "for row in data.itertuples():\n",
    "    abstract_token = word_tokenize(row.abstract)\n",
    "    adapt_token = word_tokenize(row.adaptation)\n",
    "    bleu.append(sentence_bleu([adapt_token], abstract_token, smoothing_function=smooter.method1))\n",
    "\n"
   ]
  },
  {
   "cell_type": "code",
   "execution_count": 149,
   "metadata": {},
   "outputs": [],
   "source": [
    "references = [ [a] for a in data['abstract']]\n",
    "\n",
    "rouge_score = rouge_evaluate.compute(predictions=data.adaptation, references=references, tokenizer=word_tokenize)\n"
   ]
  },
  {
   "cell_type": "code",
   "execution_count": 159,
   "metadata": {},
   "outputs": [],
   "source": [
    "abstract_fkgl_mean = np.mean(abstract_fkgl)\n",
    "abstract_fkre_mean = np.mean(abstract_fkre)\n",
    "abstract_fkgl_median = np.median(abstract_fkgl)\n",
    "abstract_fkre_median = np.median(abstract_fkre)\n",
    "adapt_fkgl_mean = np.mean(adapt_fkgl)\n",
    "adapt_fkre_mean = np.mean(adapt_fkre)\n",
    "adapt_fkgl_median = np.median(adapt_fkgl)\n",
    "adapt_fkre_median = np.median(adapt_fkre)"
   ]
  },
  {
   "cell_type": "code",
   "execution_count": 160,
   "metadata": {},
   "outputs": [
    {
     "name": "stdout",
     "output_type": "stream",
     "text": [
      "| Metric      |    Score |\n",
      "|-------------+----------|\n",
      "| BLEU        | 0.308804 |\n",
      "| ROUGE (Sum) | 0.532603 |\n"
     ]
    }
   ],
   "source": [
    "table = [\n",
    "    ['BLEU', np.mean(bleu)],\n",
    "    ['ROUGE (Sum)', rouge_score['rougeLsum']]\n",
    "]\n",
    "header = ['Metric', 'Score']\n",
    "print(tabulate(table, headers=header, tablefmt='orgtbl'))\n"
   ]
  },
  {
   "cell_type": "code",
   "execution_count": 114,
   "metadata": {},
   "outputs": [
    {
     "name": "stdout",
     "output_type": "stream",
     "text": [
      "| Metric   |   Original_Mean |   Original_Median |   Adaptation_Mean |   Adaptation_Median |\n",
      "|----------+-----------------+-------------------+-------------------+---------------------|\n",
      "| FKGL     |         13.8021 |             13.9  |           11.6064 |               11.4  |\n",
      "| FKRE     |         32.2564 |             31.78 |           47.9856 |               47.28 |\n"
     ]
    }
   ],
   "source": [
    "table = [\n",
    "    ['FKGL', abstract_fkgl_mean, abstract_fkgl_median, adapt_fkgl_mean, adapt_fkgl_median],\n",
    "    ['FKRE', abstract_fkre_mean, abstract_fkre_median, adapt_fkre_mean, adapt_fkre_median],\n",
    "]\n",
    "header = ['Metric', 'Original_Mean', 'Original_Median', 'Adaptation_Mean', 'Adaptation_Median']\n",
    "table = tabulate(table, headers=header, tablefmt='orgtbl')\n",
    "print(table)"
   ]
  },
  {
   "cell_type": "code",
   "execution_count": 123,
   "metadata": {},
   "outputs": [],
   "source": [
    "gpt_df = pd.read_csv('chatgpt_examples.csv')"
   ]
  },
  {
   "cell_type": "code",
   "execution_count": 124,
   "metadata": {},
   "outputs": [
    {
     "data": {
      "text/html": [
       "<div>\n",
       "<style scoped>\n",
       "    .dataframe tbody tr th:only-of-type {\n",
       "        vertical-align: middle;\n",
       "    }\n",
       "\n",
       "    .dataframe tbody tr th {\n",
       "        vertical-align: top;\n",
       "    }\n",
       "\n",
       "    .dataframe thead th {\n",
       "        text-align: right;\n",
       "    }\n",
       "</style>\n",
       "<table border=\"1\" class=\"dataframe\">\n",
       "  <thead>\n",
       "    <tr style=\"text-align: right;\">\n",
       "      <th></th>\n",
       "      <th>input_text</th>\n",
       "      <th>target_text</th>\n",
       "      <th>prompt1</th>\n",
       "      <th>prompt2</th>\n",
       "      <th>prompt3</th>\n",
       "    </tr>\n",
       "  </thead>\n",
       "  <tbody>\n",
       "    <tr>\n",
       "      <th>0</th>\n",
       "      <td>Background: Muscle cramp is a painful, involun...</td>\n",
       "      <td>Muscle cramps are unconscious contractions of ...</td>\n",
       "      <td>Muscle cramps, those painful muscle contractio...</td>\n",
       "      <td>This study looked into why exercise-associated...</td>\n",
       "      <td>Muscle cramps are when your muscles suddenly t...</td>\n",
       "    </tr>\n",
       "    <tr>\n",
       "      <th>1</th>\n",
       "      <td>Hyperkalemia is a frequent clinical abnormalit...</td>\n",
       "      <td>Hyperkalemia (high blood potassium) is common ...</td>\n",
       "      <td>Hyperkalemia is a common problem in people wit...</td>\n",
       "      <td>Hyperkalemia, which is when there's too much p...</td>\n",
       "      <td>Hyperkalemia is a common problem in people wit...</td>\n",
       "    </tr>\n",
       "    <tr>\n",
       "      <th>2</th>\n",
       "      <td>New recommendations for the classification and...</td>\n",
       "      <td>New recommendations for classifying diabetes m...</td>\n",
       "      <td>The new guidelines for classifying and diagnos...</td>\n",
       "      <td>New guidelines for classifying and diagnosing ...</td>\n",
       "      <td>There are new guidelines for how we talk about...</td>\n",
       "    </tr>\n",
       "    <tr>\n",
       "      <th>3</th>\n",
       "      <td>Objective: To describe the historical refineme...</td>\n",
       "      <td>Our objective is to summarize the history, und...</td>\n",
       "      <td>This text discusses the history, development, ...</td>\n",
       "      <td>Objective: This article aims to provide an ove...</td>\n",
       "      <td>This article discusses the history and science...</td>\n",
       "    </tr>\n",
       "    <tr>\n",
       "      <th>4</th>\n",
       "      <td>The chemical structure of a neuroleptic does n...</td>\n",
       "      <td>The chemical structure (arrangement of chemica...</td>\n",
       "      <td>The chemical structure of a neuroleptic drug d...</td>\n",
       "      <td>The chemical structure of a neuroleptic medica...</td>\n",
       "      <td>When it comes to medications that help with me...</td>\n",
       "    </tr>\n",
       "  </tbody>\n",
       "</table>\n",
       "</div>"
      ],
      "text/plain": [
       "                                          input_text   \n",
       "0  Background: Muscle cramp is a painful, involun...  \\\n",
       "1  Hyperkalemia is a frequent clinical abnormalit...   \n",
       "2  New recommendations for the classification and...   \n",
       "3  Objective: To describe the historical refineme...   \n",
       "4  The chemical structure of a neuroleptic does n...   \n",
       "\n",
       "                                         target_text   \n",
       "0  Muscle cramps are unconscious contractions of ...  \\\n",
       "1  Hyperkalemia (high blood potassium) is common ...   \n",
       "2  New recommendations for classifying diabetes m...   \n",
       "3  Our objective is to summarize the history, und...   \n",
       "4  The chemical structure (arrangement of chemica...   \n",
       "\n",
       "                                             prompt1   \n",
       "0  Muscle cramps, those painful muscle contractio...  \\\n",
       "1  Hyperkalemia is a common problem in people wit...   \n",
       "2  The new guidelines for classifying and diagnos...   \n",
       "3  This text discusses the history, development, ...   \n",
       "4  The chemical structure of a neuroleptic drug d...   \n",
       "\n",
       "                                             prompt2   \n",
       "0  This study looked into why exercise-associated...  \\\n",
       "1  Hyperkalemia, which is when there's too much p...   \n",
       "2  New guidelines for classifying and diagnosing ...   \n",
       "3  Objective: This article aims to provide an ove...   \n",
       "4  The chemical structure of a neuroleptic medica...   \n",
       "\n",
       "                                             prompt3  \n",
       "0  Muscle cramps are when your muscles suddenly t...  \n",
       "1  Hyperkalemia is a common problem in people wit...  \n",
       "2  There are new guidelines for how we talk about...  \n",
       "3  This article discusses the history and science...  \n",
       "4  When it comes to medications that help with me...  "
      ]
     },
     "execution_count": 124,
     "metadata": {},
     "output_type": "execute_result"
    }
   ],
   "source": [
    "gpt_df.head()"
   ]
  },
  {
   "cell_type": "code",
   "execution_count": 125,
   "metadata": {},
   "outputs": [],
   "source": [
    "input_fkgl = []\n",
    "input_fkre = []\n",
    "target_fkgl = []\n",
    "target_fkre = []\n",
    "prompt1_fkgl = []\n",
    "prompt1_fkre = []\n",
    "prompt2_fkgl = []\n",
    "prompt2_fkre = []\n",
    "prompt3_fkgl = []\n",
    "prompt3_fkre = []"
   ]
  },
  {
   "cell_type": "code",
   "execution_count": 126,
   "metadata": {},
   "outputs": [],
   "source": [
    "for row in gpt_df.itertuples():\n",
    "    input_fkgl.append(flesch_kincaid_grade(row.input_text))\n",
    "    input_fkre.append(flesch_reading_ease(row.input_text))\n",
    "    target_fkgl.append(flesch_kincaid_grade(row.target_text))\n",
    "    target_fkre.append(flesch_reading_ease(row.target_text))\n",
    "    prompt1_fkgl.append(flesch_kincaid_grade(row.prompt1))\n",
    "    prompt1_fkre.append(flesch_reading_ease(row.prompt1))\n",
    "    prompt2_fkgl.append(flesch_kincaid_grade(row.prompt2))\n",
    "    prompt2_fkre.append(flesch_reading_ease(row.prompt2))\n",
    "    prompt3_fkgl.append(flesch_kincaid_grade(row.prompt3))\n",
    "    prompt3_fkre.append(flesch_reading_ease(row.prompt3))"
   ]
  },
  {
   "cell_type": "code",
   "execution_count": 127,
   "metadata": {},
   "outputs": [
    {
     "name": "stdout",
     "output_type": "stream",
     "text": [
      "| Metric   |   Input_Mean |   Target_Mean |   Prompt1_Mean |   Prompt2_Mean |   Prompt3_Mean |\n",
      "|----------+--------------+---------------+----------------+----------------+----------------|\n",
      "| FKGL     |      14.3667 |       10.9833 |          11.25 |        12.0167 |        7.91667 |\n",
      "| FKRE     |      30.1167 |       48.7567 |          47.21 |        41.5533 |       70.21    |\n"
     ]
    }
   ],
   "source": [
    "table = [\n",
    "    ['FKGL', np.mean(input_fkgl), np.mean(target_fkgl), np.mean(prompt1_fkgl), np.mean(prompt2_fkgl), np.mean(prompt3_fkgl)],\n",
    "    ['FKRE', np.mean(input_fkre), np.mean(target_fkre), np.mean(prompt1_fkre), np.mean(prompt2_fkre), np.mean(prompt3_fkre)],\n",
    "]\n",
    "header = ['Metric', 'Input_Mean', 'Target_Mean', 'Prompt1_Mean', 'Prompt2_Mean', 'Prompt3_Mean']\n",
    "table = tabulate(table, headers=header, tablefmt='orgtbl')\n",
    "print(table)"
   ]
  },
  {
   "cell_type": "code",
   "execution_count": 168,
   "metadata": {},
   "outputs": [],
   "source": [
    "target_bleu = []\n",
    "prompt1_bleu = []\n",
    "prompt2_bleu = []\n",
    "prompt3_bleu = []\n",
    "\n",
    "for row in gpt_df.itertuples():\n",
    "    input_token = word_tokenize(row.input_text)\n",
    "    target_token = word_tokenize(row.target_text)\n",
    "    prompt1_token = word_tokenize(row.prompt1)\n",
    "    prompt2_token = word_tokenize(row.prompt2)\n",
    "    prompt3_token = word_tokenize(row.prompt3)\n",
    "    target_bleu.append(sentence_bleu([target_token], input_token, smoothing_function=smooter.method1))\n",
    "    prompt1_bleu.append(sentence_bleu([prompt1_token], input_token, smoothing_function=smooter.method1))\n",
    "    prompt2_bleu.append(sentence_bleu([prompt2_token], input_token, smoothing_function=smooter.method1))\n",
    "    prompt3_bleu.append(sentence_bleu([prompt3_token], input_token, smoothing_function=smooter.method1))\n",
    "\n",
    "\n"
   ]
  },
  {
   "cell_type": "code",
   "execution_count": 162,
   "metadata": {},
   "outputs": [],
   "source": [
    "references = [ [a] for a in gpt_df['input_text']]\n",
    "target_rouge = rouge_evaluate.compute(predictions=gpt_df.target_text, references=references, tokenizer=word_tokenize)\n",
    "prompt1_rouge = rouge_evaluate.compute(predictions=gpt_df.prompt1, references=references, tokenizer=word_tokenize)\n",
    "prompt2_rouge = rouge_evaluate.compute(predictions=gpt_df.prompt2, references=references, tokenizer=word_tokenize)\n",
    "prompt3_rouge = rouge_evaluate.compute(predictions=gpt_df.prompt3, references=references, tokenizer=word_tokenize)"
   ]
  },
  {
   "cell_type": "code",
   "execution_count": 169,
   "metadata": {},
   "outputs": [
    {
     "name": "stdout",
     "output_type": "stream",
     "text": [
      "| Metric      |   Target |   Prompt 1 |   Prompt 2 |   Prompt 3 |\n",
      "|-------------+----------+------------+------------+------------|\n",
      "| BLEU        | 0.195607 |   0.141296 |   0.194561 |   0.044843 |\n",
      "| ROUGE (Sum) | 0.421436 |   0.350866 |   0.401387 |   0.235011 |\n"
     ]
    }
   ],
   "source": [
    "table = [\n",
    "    ['BLEU', np.mean(target_bleu), np.mean(prompt1_bleu), np.mean(prompt2_bleu), np.mean(prompt3_bleu)],\n",
    "    ['ROUGE (Sum)', target_rouge['rougeLsum'], prompt1_rouge['rougeLsum'], prompt2_rouge['rougeLsum'], prompt3_rouge['rougeLsum']]\n",
    "]\n",
    "header = ['Metric', 'Target', 'Prompt 1', 'Prompt 2', 'Prompt 3']\n",
    "print(tabulate(table, headers=header, tablefmt='orgtbl'))"
   ]
  },
  {
   "cell_type": "code",
   "execution_count": 171,
   "metadata": {},
   "outputs": [],
   "source": [
    "gpt_human_eval = pd.read_excel('gpt_human_eval.xlsx')"
   ]
  },
  {
   "cell_type": "code",
   "execution_count": 172,
   "metadata": {},
   "outputs": [
    {
     "data": {
      "text/html": [
       "<div>\n",
       "<style scoped>\n",
       "    .dataframe tbody tr th:only-of-type {\n",
       "        vertical-align: middle;\n",
       "    }\n",
       "\n",
       "    .dataframe tbody tr th {\n",
       "        vertical-align: top;\n",
       "    }\n",
       "\n",
       "    .dataframe thead th {\n",
       "        text-align: right;\n",
       "    }\n",
       "</style>\n",
       "<table border=\"1\" class=\"dataframe\">\n",
       "  <thead>\n",
       "    <tr style=\"text-align: right;\">\n",
       "      <th></th>\n",
       "      <th>type</th>\n",
       "      <th>accuracy</th>\n",
       "      <th>clarity</th>\n",
       "      <th>completeness</th>\n",
       "      <th>readability</th>\n",
       "      <th>relevance</th>\n",
       "    </tr>\n",
       "  </thead>\n",
       "  <tbody>\n",
       "    <tr>\n",
       "      <th>0</th>\n",
       "      <td>target</td>\n",
       "      <td>4</td>\n",
       "      <td>2</td>\n",
       "      <td>4</td>\n",
       "      <td>3</td>\n",
       "      <td>2</td>\n",
       "    </tr>\n",
       "    <tr>\n",
       "      <th>1</th>\n",
       "      <td>prompt1</td>\n",
       "      <td>4</td>\n",
       "      <td>2</td>\n",
       "      <td>4</td>\n",
       "      <td>2</td>\n",
       "      <td>2</td>\n",
       "    </tr>\n",
       "    <tr>\n",
       "      <th>2</th>\n",
       "      <td>prompt2</td>\n",
       "      <td>2</td>\n",
       "      <td>4</td>\n",
       "      <td>4</td>\n",
       "      <td>4</td>\n",
       "      <td>4</td>\n",
       "    </tr>\n",
       "    <tr>\n",
       "      <th>3</th>\n",
       "      <td>prompt3</td>\n",
       "      <td>2</td>\n",
       "      <td>5</td>\n",
       "      <td>4</td>\n",
       "      <td>5</td>\n",
       "      <td>5</td>\n",
       "    </tr>\n",
       "    <tr>\n",
       "      <th>4</th>\n",
       "      <td>target</td>\n",
       "      <td>4</td>\n",
       "      <td>2</td>\n",
       "      <td>4</td>\n",
       "      <td>2</td>\n",
       "      <td>3</td>\n",
       "    </tr>\n",
       "  </tbody>\n",
       "</table>\n",
       "</div>"
      ],
      "text/plain": [
       "      type  accuracy  clarity  completeness  readability  relevance\n",
       "0   target         4        2             4            3          2\n",
       "1  prompt1         4        2             4            2          2\n",
       "2  prompt2         2        4             4            4          4\n",
       "3  prompt3         2        5             4            5          5\n",
       "4   target         4        2             4            2          3"
      ]
     },
     "execution_count": 172,
     "metadata": {},
     "output_type": "execute_result"
    }
   ],
   "source": [
    "gpt_human_eval.head()"
   ]
  },
  {
   "cell_type": "code",
   "execution_count": 177,
   "metadata": {},
   "outputs": [],
   "source": [
    "target_eval_scores = gpt_human_eval[gpt_human_eval['type'] == 'target']"
   ]
  },
  {
   "cell_type": "code",
   "execution_count": 198,
   "metadata": {},
   "outputs": [],
   "source": [
    "def get_mean_scores(df):\n",
    "    return {\n",
    "        'accuracy': np.mean(df['accuracy']),\n",
    "        'clarity': np.mean(df['clarity']),\n",
    "        'completeness': np.mean(df['completeness']),\n",
    "        'readability': np.mean(df['readability']),\n",
    "        'relevance': np.mean(df['relevance']),\n",
    "    }\n",
    "\n",
    "def get_mean_scores_table(df):\n",
    "    return [\n",
    "        np.mean(df['accuracy']),\n",
    "        np.mean(df['clarity']),\n",
    "        np.mean(df['completeness']),\n",
    "        np.mean(df['readability']),\n",
    "        np.mean(df['relevance']),\n",
    "    ]"
   ]
  },
  {
   "cell_type": "code",
   "execution_count": 203,
   "metadata": {},
   "outputs": [
    {
     "name": "stdout",
     "output_type": "stream",
     "text": [
      "| Type    |   Accuracy |   Clarity |   Completeness |   Readability |   Relevance |\n",
      "|---------+------------+-----------+----------------+---------------+-------------|\n",
      "| human   |    3.83333 |   1.83333 |        4.16667 |       2       |     2       |\n",
      "| prompt1 |    4.33333 |   3       |        4.16667 |       3.5     |     3.16667 |\n",
      "| prompt2 |    3.66667 |   2.5     |        4.16667 |       3       |     3       |\n",
      "| prompt3 |    4       |   5       |        4       |       4.66667 |     5       |\n"
     ]
    }
   ],
   "source": [
    "table = [\n",
    "    ['human'] + get_mean_scores_table(gpt_human_eval[gpt_human_eval['type'] == 'target']),\n",
    "    ['prompt1'] + get_mean_scores_table(gpt_human_eval[gpt_human_eval['type'] == 'prompt1']),\n",
    "    ['prompt2'] + get_mean_scores_table(gpt_human_eval[gpt_human_eval['type'] == 'prompt2']),\n",
    "    ['prompt3'] + get_mean_scores_table(gpt_human_eval[gpt_human_eval['type'] == 'prompt3'])\n",
    "]\n",
    "\n",
    "header = ['Type', 'Accuracy', 'Clarity', 'Completeness', 'Readability', 'Relevance']\n",
    "\n",
    "print(tabulate(table, headers=header, tablefmt='orgtbl'))\n"
   ]
  },
  {
   "cell_type": "code",
   "execution_count": 204,
   "metadata": {},
   "outputs": [],
   "source": [
    "llama_df = pd.read_csv('llama_eval.csv')"
   ]
  },
  {
   "cell_type": "code",
   "execution_count": 205,
   "metadata": {},
   "outputs": [
    {
     "data": {
      "text/html": [
       "<div>\n",
       "<style scoped>\n",
       "    .dataframe tbody tr th:only-of-type {\n",
       "        vertical-align: middle;\n",
       "    }\n",
       "\n",
       "    .dataframe tbody tr th {\n",
       "        vertical-align: top;\n",
       "    }\n",
       "\n",
       "    .dataframe thead th {\n",
       "        text-align: right;\n",
       "    }\n",
       "</style>\n",
       "<table border=\"1\" class=\"dataframe\">\n",
       "  <thead>\n",
       "    <tr style=\"text-align: right;\">\n",
       "      <th></th>\n",
       "      <th>input</th>\n",
       "      <th>Generated_Text</th>\n",
       "    </tr>\n",
       "  </thead>\n",
       "  <tbody>\n",
       "    <tr>\n",
       "      <th>0</th>\n",
       "      <td>Purpose: Osteoarthritis of the knee is a commo...</td>\n",
       "      <td>Osteoarthritis (OA) of the knee is a common di...</td>\n",
       "    </tr>\n",
       "    <tr>\n",
       "      <th>1</th>\n",
       "      <td>\"Background: This study aimed to compare the a...</td>\n",
       "      <td>This study aimed to compare the arthroscopic (...</td>\n",
       "    </tr>\n",
       "    <tr>\n",
       "      <th>2</th>\n",
       "      <td>Objective: To review the results of arthroscop...</td>\n",
       "      <td>We reviewed the results of arthroscopic (joint...</td>\n",
       "    </tr>\n",
       "    <tr>\n",
       "      <th>3</th>\n",
       "      <td>Popliteal cyst is a common peri-knee cyst, als...</td>\n",
       "      <td>Popliteal cysts are common cysts around the kn...</td>\n",
       "    </tr>\n",
       "    <tr>\n",
       "      <th>4</th>\n",
       "      <td>Context: Popliteal synovial cysts, also known ...</td>\n",
       "      <td>Popliteal (knee) synovial (joint) cysts, also ...</td>\n",
       "    </tr>\n",
       "  </tbody>\n",
       "</table>\n",
       "</div>"
      ],
      "text/plain": [
       "                                               input   \n",
       "0  Purpose: Osteoarthritis of the knee is a commo...  \\\n",
       "1  \"Background: This study aimed to compare the a...   \n",
       "2  Objective: To review the results of arthroscop...   \n",
       "3  Popliteal cyst is a common peri-knee cyst, als...   \n",
       "4  Context: Popliteal synovial cysts, also known ...   \n",
       "\n",
       "                                      Generated_Text  \n",
       "0  Osteoarthritis (OA) of the knee is a common di...  \n",
       "1  This study aimed to compare the arthroscopic (...  \n",
       "2  We reviewed the results of arthroscopic (joint...  \n",
       "3  Popliteal cysts are common cysts around the kn...  \n",
       "4  Popliteal (knee) synovial (joint) cysts, also ...  "
      ]
     },
     "execution_count": 205,
     "metadata": {},
     "output_type": "execute_result"
    }
   ],
   "source": [
    "llama_df.head()"
   ]
  },
  {
   "cell_type": "code",
   "execution_count": 206,
   "metadata": {},
   "outputs": [
    {
     "ename": "AttributeError",
     "evalue": "'Pandas' object has no attribute 'generated'",
     "output_type": "error",
     "traceback": [
      "\u001b[0;31m---------------------------------------------------------------------------\u001b[0m",
      "\u001b[0;31mAttributeError\u001b[0m                            Traceback (most recent call last)",
      "\u001b[0;32m/var/folders/qw/0ndgh2td1pqcpvynxn4fkwch0000gn/T/ipykernel_9127/4197922079.py\u001b[0m in \u001b[0;36m<cell line: 7>\u001b[0;34m()\u001b[0m\n\u001b[1;32m      8\u001b[0m     \u001b[0minput_fkgl\u001b[0m\u001b[0;34m.\u001b[0m\u001b[0mappend\u001b[0m\u001b[0;34m(\u001b[0m\u001b[0mflesch_kincaid_grade\u001b[0m\u001b[0;34m(\u001b[0m\u001b[0mrow\u001b[0m\u001b[0;34m.\u001b[0m\u001b[0minput\u001b[0m\u001b[0;34m)\u001b[0m\u001b[0;34m)\u001b[0m\u001b[0;34m\u001b[0m\u001b[0;34m\u001b[0m\u001b[0m\n\u001b[1;32m      9\u001b[0m     \u001b[0minput_fkre\u001b[0m\u001b[0;34m.\u001b[0m\u001b[0mappend\u001b[0m\u001b[0;34m(\u001b[0m\u001b[0mflesch_reading_ease\u001b[0m\u001b[0;34m(\u001b[0m\u001b[0mrow\u001b[0m\u001b[0;34m.\u001b[0m\u001b[0minput\u001b[0m\u001b[0;34m)\u001b[0m\u001b[0;34m)\u001b[0m\u001b[0;34m\u001b[0m\u001b[0;34m\u001b[0m\u001b[0m\n\u001b[0;32m---> 10\u001b[0;31m     \u001b[0mgenerated_fkgl\u001b[0m\u001b[0;34m.\u001b[0m\u001b[0mappend\u001b[0m\u001b[0;34m(\u001b[0m\u001b[0mflesch_kincaid_grade\u001b[0m\u001b[0;34m(\u001b[0m\u001b[0mrow\u001b[0m\u001b[0;34m.\u001b[0m\u001b[0mgenerated\u001b[0m\u001b[0;34m)\u001b[0m\u001b[0;34m)\u001b[0m\u001b[0;34m\u001b[0m\u001b[0;34m\u001b[0m\u001b[0m\n\u001b[0m\u001b[1;32m     11\u001b[0m     \u001b[0mgenerated_fkre\u001b[0m\u001b[0;34m.\u001b[0m\u001b[0mappend\u001b[0m\u001b[0;34m(\u001b[0m\u001b[0mflesch_reading_ease\u001b[0m\u001b[0;34m(\u001b[0m\u001b[0mrow\u001b[0m\u001b[0;34m.\u001b[0m\u001b[0mgenerated\u001b[0m\u001b[0;34m)\u001b[0m\u001b[0;34m)\u001b[0m\u001b[0;34m\u001b[0m\u001b[0;34m\u001b[0m\u001b[0m\n",
      "\u001b[0;31mAttributeError\u001b[0m: 'Pandas' object has no attribute 'generated'"
     ]
    }
   ],
   "source": [
    "input_fkgl = []\n",
    "input_fkre = []\n",
    "generated_fkgl = []\n",
    "generated_fkre = []\n",
    "\n",
    "\n",
    "for row in llama_df.itertuples():\n",
    "    input_fkgl.append(flesch_kincaid_grade(row.input))\n",
    "    input_fkre.append(flesch_reading_ease(row.input))\n",
    "    generated_fkgl.append(flesch_kincaid_grade(row.generated))\n",
    "    generated_fkre.append(flesch_reading_ease(row.generated))\n"
   ]
  }
 ],
 "metadata": {
  "kernelspec": {
   "display_name": "tensorflow",
   "language": "python",
   "name": "python3"
  },
  "language_info": {
   "codemirror_mode": {
    "name": "ipython",
    "version": 3
   },
   "file_extension": ".py",
   "mimetype": "text/x-python",
   "name": "python",
   "nbconvert_exporter": "python",
   "pygments_lexer": "ipython3",
   "version": "3.10.10"
  },
  "orig_nbformat": 4
 },
 "nbformat": 4,
 "nbformat_minor": 2
}
